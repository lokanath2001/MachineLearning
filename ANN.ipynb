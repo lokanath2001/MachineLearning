{
  "metadata": {
    "kernelspec": {
      "name": "python",
      "display_name": "Python (Pyodide)",
      "language": "python"
    },
    "language_info": {
      "codemirror_mode": {
        "name": "python",
        "version": 3
      },
      "file_extension": ".py",
      "mimetype": "text/x-python",
      "name": "python",
      "nbconvert_exporter": "python",
      "pygments_lexer": "ipython3",
      "version": "3.8"
    }
  },
  "nbformat_minor": 4,
  "nbformat": 4,
  "cells": [
    {
      "cell_type": "code",
      "source": "import numpy as np",
      "metadata": {
        "trusted": true
      },
      "outputs": [],
      "execution_count": 1
    },
    {
      "cell_type": "code",
      "source": "def activate(x):\n  if(x>=0):\n    return 1\n  else:\n     return 0",
      "metadata": {
        "trusted": true
      },
      "outputs": [],
      "execution_count": 2
    },
    {
      "cell_type": "code",
      "source": "def perceptronModel(x, w, b):\n    v = np.dot(w, x) + b\n    y = activate(v)\n    return y",
      "metadata": {
        "trusted": true
      },
      "outputs": [],
      "execution_count": 3
    },
    {
      "cell_type": "code",
      "source": "def NOT_logicFunction(x):\n    wNOT = -1\n    bNOT = 0.5\n    return perceptronModel(x, wNOT, bNOT)",
      "metadata": {
        "trusted": true
      },
      "outputs": [],
      "execution_count": 4
    },
    {
      "cell_type": "code",
      "source": "def AND_logicFunction(x):\n    w = np.array([1, 1])\n    bAND = -1.5\n    return perceptronModel(x, w, bAND)",
      "metadata": {
        "trusted": true
      },
      "outputs": [],
      "execution_count": 5
    },
    {
      "cell_type": "code",
      "source": "def OR_logicFunction(x):\n    w = np.array([1, 1])\n    bOR = -0.5\n    return perceptronModel(x, w, bOR)",
      "metadata": {
        "trusted": true
      },
      "outputs": [],
      "execution_count": 6
    },
    {
      "cell_type": "code",
      "source": "def XOR_logicFunction(x):\n    y1 = AND_logicFunction(x)\n    y2 = OR_logicFunction(x)\n    y3 = NOT_logicFunction(y1)\n    final_x = np.array([y2, y3])\n    finalOutput = AND_logicFunction(final_x)\n    return finalOutput",
      "metadata": {
        "trusted": true
      },
      "outputs": [],
      "execution_count": 7
    },
    {
      "cell_type": "code",
      "source": "test1 = np.array([0,0])\ntest2 = np.array([0,1])\ntest3 = np.array([1,0])\ntest4 = np.array([1,1])\n",
      "metadata": {
        "trusted": true
      },
      "outputs": [],
      "execution_count": 8
    },
    {
      "cell_type": "code",
      "source": "print(\"XOR({}, {}) = {}\".format(0, 1, XOR_logicFunction(test1)))\nprint(\"XOR({}, {}) = {}\".format(1, 1, XOR_logicFunction(test2)))\nprint(\"XOR({}, {}) = {}\".format(0, 0, XOR_logicFunction(test3)))\nprint(\"XOR({}, {}) = {}\".format(1, 0, XOR_logicFunction(test4)))",
      "metadata": {
        "trusted": true
      },
      "outputs": [
        {
          "name": "stdout",
          "text": "XOR(0, 1) = 0\nXOR(1, 1) = 1\nXOR(0, 0) = 1\nXOR(1, 0) = 0\n",
          "output_type": "stream"
        }
      ],
      "execution_count": 9
    },
    {
      "cell_type": "code",
      "source": "",
      "metadata": {
        "trusted": true
      },
      "outputs": [],
      "execution_count": null
    }
  ]
}